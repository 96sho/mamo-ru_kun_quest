{
 "cells": [
  {
   "cell_type": "code",
   "execution_count": 4,
   "id": "0738a0ce",
   "metadata": {},
   "outputs": [],
   "source": [
    "def avg(arr):\n",
    "  return sum(arr) / len(arr)"
   ]
  },
  {
   "cell_type": "code",
   "execution_count": 5,
   "id": "a3862719",
   "metadata": {},
   "outputs": [],
   "source": [
    "def simulate_delay(\n",
    "  gps_update_freq_avg: float, # GPS更新頻度の測定値の期待値\n",
    "  sending_delay_avg: float, # 走行状況送信遅延の測定値の期待値\n",
    "  retrieval_delay_avg: float, # 受信遅れの測定値の期待値\n",
    "  retrieval_interval=250 # システム上の走行状況取得頻度\n",
    "):\n",
    "  simulation_timerange = 1000 * 3600 #１時間のシミュレーション\n",
    "\n",
    "  latest_data_on_server = None # サーバーが持つ最新の走行状況のデータ\n",
    "\n",
    "  delays = [] # シミュレーションで得られた遅延時間を格納するリスト\n",
    "\n",
    "  for time_ms in range(simulation_timerange):\n",
    "    # GPS更新頻度で走行状況をサーバーに送信\n",
    "    if time_ms % int(gps_update_freq_avg) == 0:\n",
    "      latest_data_on_server = time_ms - sending_delay_avg\n",
    "    \n",
    "    # サーバーが持つ最新の走行状況のデータを取得\n",
    "    if time_ms % int(retrieval_interval) == 0:\n",
    "      if latest_data_on_server is not None:\n",
    "        # 送信開始時間から受信完了時間までの遅延を計算する。\n",
    "        retrieval_time = time_ms + retrieval_delay_avg\n",
    "        delays.append(retrieval_time - latest_data_on_server)\n",
    "    \n",
    "  return delays"
   ]
  },
  {
   "cell_type": "code",
   "execution_count": 6,
   "id": "22272232",
   "metadata": {},
   "outputs": [],
   "source": [
    "delay_to_servers = {'https://mamo-ru.onrender.com/delay': [(650, 76.366943359375, 726.366943359375), (399, 93.654052734375, 492.654052734375), (407, 97.218017578125, 504.218017578125), (601, 98.43896484375, 699.43896484375), (631, 101.786865234375, 732.786865234375), (677, 105.001953125, 782.001953125), (401, 79.781005859375, 480.781005859375), (638, 104.220947265625, 742.220947265625), (462, 78.979248046875, 540.979248046875), (364, 92.02099609375, 456.02099609375), (657, 95.44775390625, 752.44775390625), (482, 84.530029296875, 566.530029296875), (4569, 649.02099609375, 5218.02099609375), (633, 97.93896484375, 730.93896484375), (398, 88.425048828125, 486.425048828125), (436, 88.2802734375, 524.2802734375), (671, 98.921142578125, 769.921142578125), (412, 94.075927734375, 506.075927734375), (410, 91.69482421875, 501.69482421875), (364, 79.4521484375, 443.4521484375)], 'https://mamoru-kun.vercel.app/api/delay': [(819, 28.097900390625, 847.097900390625), (440, 27.10302734375, 467.10302734375), (381, 38.191162109375, 419.191162109375), (440, 32.437255859375, 472.437255859375), (343, 32.76904296875, 375.76904296875), (361, 33.94970703125, 394.94970703125), (382, 28.799072265625, 410.799072265625), (366, 33.5751953125, 399.5751953125), (364, 33.660888671875, 397.660888671875), (403, 24.010986328125, 427.010986328125), (417, 42.869873046875, 459.869873046875), (415, 34.56103515625, 449.56103515625), (376, 27.69677734375, 403.69677734375), (376, 41.483154296875, 417.483154296875), (390, 40.7509765625, 430.7509765625), (369, 33.862060546875, 402.862060546875), (383, 35.093994140625, 418.093994140625), (362, 31.4501953125, 393.4501953125), (365, 39.287109375, 404.287109375), (409, 39.203857421875, 448.203857421875)]}"
   ]
  },
  {
   "cell_type": "code",
   "execution_count": 10,
   "id": "6626e6f0",
   "metadata": {},
   "outputs": [
    {
     "name": "stdout",
     "output_type": "stream",
     "text": [
      "n_samples: 60 avg gps_update freq: 1125.8833333333334\n",
      "avg delay: 1332.8628051756589\n"
     ]
    }
   ],
   "source": [
    "# Ver1.0\n",
    "connection_delay_roundtrip = [delay[2] for delay in delay_to_servers[\"https://mamo-ru.onrender.com/delay\"]]\n",
    "connection_delay_avg = (sum(connection_delay_roundtrip) / len(connection_delay_roundtrip)) / 2\n",
    "\n",
    "gps_update_freq = [3283,1000,3000,1000,1000,1000,1000,1000,1273,1000,1000,1000,1000,1999,1000,1000,1000,1000,1000,1000,1000,1000,1999,1000,1000,1000,1000,1000,1000,1000,1000,1000,1000,1000,1000,1000,1000,1999,1000,1000,1000,1000,1000,1000,1000,1000,1000,1000,1000,1000,1000,1000,1000,1000,1000,1000,1000,1000,1000,1000]\n",
    "retrieval_interval = 250\n",
    "\n",
    "print(f\"n_samples: {len(gps_update_freq)} avg gps_update freq: {avg(gps_update_freq)}\")\n",
    "delays = simulate_delay(avg(gps_update_freq), connection_delay_avg, connection_delay_avg, retrieval_interval)\n",
    "print(f\"avg delay: {avg(delays)}\")"
   ]
  },
  {
   "cell_type": "code",
   "execution_count": 11,
   "id": "3c8c1425",
   "metadata": {},
   "outputs": [
    {
     "name": "stdout",
     "output_type": "stream",
     "text": [
      "n_samples: 68 avg gps_update freq: 1003.5\n",
      "avg delay: 943.1420385743411\n"
     ]
    }
   ],
   "source": [
    "# Ver2.0\n",
    "connection_delay_roundtrip = [delay[2] for delay in delay_to_servers[\"https://mamoru-kun.vercel.app/api/delay\"]]\n",
    "connection_delay_avg = (sum(connection_delay_roundtrip) / len(connection_delay_roundtrip)) / 2\n",
    "\n",
    "gps_update_freq = [796.0000000000009, 976.9999999999991, 1783, 235, 1000, 1004.0000000000018, 1007.9999999999982, 990, 987, 1028.0000000000018, 1449.9999999999982, 961, 995, 1012.0000000000036, 1000, 1000, 995.9999999999964, 1013, 979, 1010, 990, 1011, 1008, 992, 1000, 996, 1010, 996, 1010, 994, 1004, 990, 1013, 996, 1004, 997, 993, 995, 1015, 1618, 366, 1828, 178, 1006, 1004, 992, 1008, 997, 1002, 988, 1014, 1000, 994, 999, 996, 1000, 1006, 1004, 1189.0000000000073, 1354.9999999999854, 458.0000000000218, 991.9999999999854, 1009, 994, 999.0000000000146, 1001.9999999999854, 993, 1009]\n",
    "retrieval_interval = 250\n",
    "\n",
    "print(f\"n_samples: {len(gps_update_freq)} avg gps_update freq: {avg(gps_update_freq)}\")\n",
    "delays = simulate_delay(avg(gps_update_freq), connection_delay_avg, connection_delay_avg, retrieval_interval)\n",
    "print(f\"avg delay: {avg(delays)}\")"
   ]
  },
  {
   "cell_type": "code",
   "execution_count": null,
   "id": "9cb96571",
   "metadata": {},
   "outputs": [],
   "source": []
  },
  {
   "cell_type": "code",
   "execution_count": null,
   "id": "328b0f93",
   "metadata": {},
   "outputs": [],
   "source": []
  }
 ],
 "metadata": {
  "kernelspec": {
   "display_name": "Python 3",
   "language": "python",
   "name": "python3"
  },
  "language_info": {
   "codemirror_mode": {
    "name": "ipython",
    "version": 3
   },
   "file_extension": ".py",
   "mimetype": "text/x-python",
   "name": "python",
   "nbconvert_exporter": "python",
   "pygments_lexer": "ipython3",
   "version": "3.12.9"
  }
 },
 "nbformat": 4,
 "nbformat_minor": 5
}
