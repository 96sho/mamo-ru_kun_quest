{
 "cells": [
  {
   "cell_type": "code",
   "execution_count": 3,
   "id": "342c0ef3",
   "metadata": {},
   "outputs": [
    {
     "name": "stdout",
     "output_type": "stream",
     "text": [
      "Requirement already satisfied: sympy in /Users/sho96/.pyenv/versions/3.12.10/lib/python3.12/site-packages (1.14.0)\n",
      "Requirement already satisfied: numpy in /Users/sho96/.pyenv/versions/3.12.10/lib/python3.12/site-packages (2.3.1)\n",
      "Requirement already satisfied: mpmath<1.4,>=1.1.0 in /Users/sho96/.pyenv/versions/3.12.10/lib/python3.12/site-packages (from sympy) (1.3.0)\n",
      "\n",
      "\u001b[1m[\u001b[0m\u001b[34;49mnotice\u001b[0m\u001b[1;39;49m]\u001b[0m\u001b[39;49m A new release of pip is available: \u001b[0m\u001b[31;49m25.0.1\u001b[0m\u001b[39;49m -> \u001b[0m\u001b[32;49m25.2\u001b[0m\n",
      "\u001b[1m[\u001b[0m\u001b[34;49mnotice\u001b[0m\u001b[1;39;49m]\u001b[0m\u001b[39;49m To update, run: \u001b[0m\u001b[32;49mpip install --upgrade pip\u001b[0m\n"
     ]
    }
   ],
   "source": [
    "!pip install sympy numpy"
   ]
  },
  {
   "cell_type": "code",
   "execution_count": null,
   "id": "5700860f",
   "metadata": {},
   "outputs": [],
   "source": [
    "![位置・向き・速さ共有遅延の動作条件の設定](https://raw.githubusercontent.com/mljar/visual-identity/main/mercury/mercury_convert_notebook.png)"
   ]
  },
  {
   "cell_type": "code",
   "execution_count": null,
   "id": "1ebcf5c5",
   "metadata": {},
   "outputs": [],
   "source": [
    "![GPS位置の誤差の動作条件の設定](https://raw.githubusercontent.com/mljar/visual-identity/main/mercury/mercury_convert_notebook.png)"
   ]
  },
  {
   "cell_type": "markdown",
   "id": "4883ed8b",
   "metadata": {},
   "source": [
    "![速さの算出誤差の動作条件モデル１](https://raw.githubusercontent.com/mljar/visual-identity/main/mercury/mercury_convert_notebook.png)"
   ]
  },
  {
   "cell_type": "code",
   "execution_count": null,
   "id": "6bca7b0a",
   "metadata": {},
   "outputs": [],
   "source": [
    "![convert notebook to web app](https://raw.githubusercontent.com/mljar/visual-identity/main/mercury/mercury_convert_notebook.png)"
   ]
  },
  {
   "cell_type": "code",
   "execution_count": 4,
   "id": "9cb96571",
   "metadata": {},
   "outputs": [
    {
     "data": {
      "text/plain": [
       "[0,\n",
       " 0.559073522061246,\n",
       " 0.756542766609109,\n",
       " 0.862608856273836,\n",
       " 0.934653000288604,\n",
       " 0.989424946831828,\n",
       " 1.03358047392829,\n",
       " 1.07042428751402,\n",
       " 1.10186768827269,\n",
       " 1.12913686141521,\n",
       " 1.15307667635537,\n",
       " 1.17429940205073,\n",
       " 1.19326541076816]"
      ]
     },
     "execution_count": 4,
     "metadata": {},
     "output_type": "execute_result"
    }
   ],
   "source": [
    "#移動速度Xに対しての動作基準となる速さ算出誤差yの計算\n",
    "\n",
    "import sympy as sp\n",
    "import numpy as np\n",
    "xs = np.arange(0, 12.1, 1)\n",
    "\n",
    "braking_acceleration = 1.54321\n",
    "distance_to_intersection = 2+0.75+1/braking_acceleration\n",
    "y = sp.Symbol('y')\n",
    "x = sp.Symbol('x')\n",
    "w = sp.Symbol('w')\n",
    "c = (2+0.75+x/(2*braking_acceleration))\n",
    "d = c*x\n",
    "equasion = sp.Eq((d / (x - y)) - (d / (x + y)), w / x + 1)\n",
    "solution = sp.solve(equasion, y)\n",
    "ys = []\n",
    "for x in xs:\n",
    "  y = solution[1].subs({\"x\": x, \"w\": 4})\n",
    "  ys.append(y)\n",
    "ys"
   ]
  },
  {
   "cell_type": "code",
   "execution_count": null,
   "id": "328b0f93",
   "metadata": {},
   "outputs": [],
   "source": []
  }
 ],
 "metadata": {
  "kernelspec": {
   "display_name": "3.12.10",
   "language": "python",
   "name": "python3"
  },
  "language_info": {
   "codemirror_mode": {
    "name": "ipython",
    "version": 3
   },
   "file_extension": ".py",
   "mimetype": "text/x-python",
   "name": "python",
   "nbconvert_exporter": "python",
   "pygments_lexer": "ipython3",
   "version": "3.12.10"
  }
 },
 "nbformat": 4,
 "nbformat_minor": 5
}
