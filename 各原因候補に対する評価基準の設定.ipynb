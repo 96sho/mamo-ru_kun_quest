{
 "cells": [
  {
   "cell_type": "markdown",
   "id": "5700860f",
   "metadata": {},
   "source": [
    "![位置・向き・速さ共有遅延の動作条件の設定](https://raw.githubusercontent.com/96sho/mamo-ru_kun_quest/refs/heads/main/imgs/位置・向き・速さ共有遅延.png)"
   ]
  },
  {
   "cell_type": "markdown",
   "id": "1ebcf5c5",
   "metadata": {},
   "source": [
    "![GPS位置の誤差の動作条件の設定](https://raw.githubusercontent.com/96sho/mamo-ru_kun_quest/refs/heads/main/imgs/GPS位置の誤差.png)"
   ]
  },
  {
   "cell_type": "markdown",
   "id": "2c91608f",
   "metadata": {},
   "source": [
    "![向きの算出誤差の動作条件の設定](https://raw.githubusercontent.com/96sho/mamo-ru_kun_quest/refs/heads/main/imgs/向きの算出誤差.png)"
   ]
  },
  {
   "cell_type": "markdown",
   "id": "4883ed8b",
   "metadata": {},
   "source": [
    "![速さの算出誤差の動作条件モデル１](https://raw.githubusercontent.com/96sho/mamo-ru_kun_quest/refs/heads/main/imgs/速さの算出誤差の動作条件モデル１.png)"
   ]
  },
  {
   "cell_type": "markdown",
   "id": "3602d241",
   "metadata": {},
   "source": [
    "![速さの算出誤差の動作条件モデル２](https://raw.githubusercontent.com/96sho/mamo-ru_kun_quest/refs/heads/main/imgs/速さの算出誤差の動作条件モデル２.png)"
   ]
  },
  {
   "cell_type": "markdown",
   "id": "6bca7b0a",
   "metadata": {},
   "source": [
    "![速さの算出誤差の動作条件モデル３](https://raw.githubusercontent.com/96sho/mamo-ru_kun_quest/refs/heads/main/imgs/速さの算出誤差の動作条件モデル３.png)"
   ]
  },
  {
   "cell_type": "code",
   "execution_count": null,
   "id": "342c0ef3",
   "metadata": {},
   "outputs": [],
   "source": [
    "!pip install sympy numpy"
   ]
  },
  {
   "cell_type": "code",
   "execution_count": 4,
   "id": "9cb96571",
   "metadata": {},
   "outputs": [
    {
     "data": {
      "text/plain": [
       "[0,\n",
       " 0.559073522061246,\n",
       " 0.756542766609109,\n",
       " 0.862608856273836,\n",
       " 0.934653000288604,\n",
       " 0.989424946831828,\n",
       " 1.03358047392829,\n",
       " 1.07042428751402,\n",
       " 1.10186768827269,\n",
       " 1.12913686141521,\n",
       " 1.15307667635537,\n",
       " 1.17429940205073,\n",
       " 1.19326541076816]"
      ]
     },
     "execution_count": 4,
     "metadata": {},
     "output_type": "execute_result"
    }
   ],
   "source": [
    "#移動速度Xに対しての動作基準となる速さ算出誤差yの計算\n",
    "\n",
    "import sympy as sp\n",
    "import numpy as np\n",
    "xs = np.arange(0, 12.1, 1)\n",
    "\n",
    "braking_acceleration = 1.54321\n",
    "distance_to_intersection = 2+0.75+1/braking_acceleration\n",
    "y = sp.Symbol('y')\n",
    "x = sp.Symbol('x')\n",
    "w = sp.Symbol('w')\n",
    "c = (2+0.75+x/(2*braking_acceleration))\n",
    "d = c*x\n",
    "equasion = sp.Eq((d / (x - y)) - (d / (x + y)), w / x + 1)\n",
    "solution = sp.solve(equasion, y)\n",
    "ys = []\n",
    "for x in xs:\n",
    "  y = solution[1].subs({\"x\": x, \"w\": 4})\n",
    "  ys.append(y)\n",
    "ys"
   ]
  },
  {
   "cell_type": "code",
   "execution_count": null,
   "id": "328b0f93",
   "metadata": {},
   "outputs": [],
   "source": []
  }
 ],
 "metadata": {
  "kernelspec": {
   "display_name": "3.12.10",
   "language": "python",
   "name": "python3"
  },
  "language_info": {
   "codemirror_mode": {
    "name": "ipython",
    "version": 3
   },
   "file_extension": ".py",
   "mimetype": "text/x-python",
   "name": "python",
   "nbconvert_exporter": "python",
   "pygments_lexer": "ipython3",
   "version": "3.12.10"
  }
 },
 "nbformat": 4,
 "nbformat_minor": 5
}
