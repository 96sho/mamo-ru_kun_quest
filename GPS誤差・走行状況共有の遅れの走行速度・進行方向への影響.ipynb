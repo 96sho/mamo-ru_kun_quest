{
  "cells": [
    {
      "cell_type": "code",
      "execution_count": null,
      "metadata": {},
      "outputs": [],
      "source": [
        "!pip install numpy tqdm matplotlib japanize_matplotlib PyQt6"
      ]
    },
    {
      "cell_type": "code",
      "execution_count": 14,
      "metadata": {},
      "outputs": [],
      "source": [
        "%matplotlib qt"
      ]
    },
    {
      "cell_type": "code",
      "execution_count": 15,
      "metadata": {
        "id": "otplEsHcsPAN"
      },
      "outputs": [],
      "source": [
        "import random\n",
        "import numpy as np\n",
        "from tqdm import trange"
      ]
    },
    {
      "cell_type": "code",
      "execution_count": 16,
      "metadata": {
        "id": "qvvTTUfNnIUl"
      },
      "outputs": [],
      "source": [
        "def simulate_error(n_samples, gps_acc, actual_speed, gps_update_freq=1.3257, return_average=False):\n",
        "  distance_traveled = actual_speed * gps_update_freq\n",
        "  speed_error_samples = np.zeros((n_samples, ))\n",
        "  direction_error_samples = np.zeros((n_samples, ))\n",
        "\n",
        "  for i in trange(n_samples):\n",
        "    prev_error_direction = random.random() * 2 * np.pi\n",
        "    prev_error_length = random.random() * gps_acc\n",
        "\n",
        "    next_error_direction = random.random() * 2 * np.pi\n",
        "    next_error_length = random.random() * gps_acc\n",
        "\n",
        "    prev_point = (prev_error_length * np.cos(prev_error_direction), prev_error_length * np.sin(prev_error_direction))\n",
        "    next_point = (distance_traveled + next_error_length * np.cos(next_error_direction), next_error_length * np.sin(next_error_direction))\n",
        "\n",
        "    calculated_speed = np.sqrt((prev_point[0] - next_point[0]) ** 2 + ((prev_point[1] - next_point[1]) ** 2)) / gps_update_freq\n",
        "    calculated_direction = np.arctan((next_point[1] - prev_point[1])/(next_point[0] - prev_point[0]))\n",
        "\n",
        "    speed_error_samples[i] = abs(calculated_speed - actual_speed)\n",
        "    direction_error_samples[i] = abs(calculated_direction)\n",
        "  if return_average:\n",
        "    return average(speed_error_samples), average(direction_error_samples)\n",
        "  return speed_error_samples, direction_error_samples\n"
      ]
    },
    {
      "cell_type": "code",
      "execution_count": 17,
      "metadata": {
        "id": "WTxyIHeZsNUt"
      },
      "outputs": [
        {
          "name": "stderr",
          "output_type": "stream",
          "text": [
            "100%|██████████| 1000000/1000000 [00:02<00:00, 391091.41it/s]\n"
          ]
        }
      ],
      "source": [
        "speed_error, direction_error = simulate_error(1000000, 5.82, 4 / 3.6)"
      ]
    },
    {
      "cell_type": "code",
      "execution_count": 18,
      "metadata": {
        "id": "VFBHjsr5vQR4"
      },
      "outputs": [],
      "source": [
        "def average(arr):\n",
        "  return sum(arr) / len(arr)"
      ]
    },
    {
      "cell_type": "code",
      "execution_count": 19,
      "metadata": {
        "colab": {
          "base_uri": "https://localhost:8080/"
        },
        "id": "3Omj3Js9vfpL",
        "outputId": "fe6cff32-c065-4ea1-cdee-b9a7cc187996"
      },
      "outputs": [
        {
          "data": {
            "text/plain": [
              "np.float64(2.290613864645053)"
            ]
          },
          "execution_count": 19,
          "metadata": {},
          "output_type": "execute_result"
        }
      ],
      "source": [
        "average(speed_error)"
      ]
    },
    {
      "cell_type": "code",
      "execution_count": 20,
      "metadata": {
        "colab": {
          "base_uri": "https://localhost:8080/"
        },
        "id": "72bqNVeFxVl0",
        "outputId": "fc71ff47-f2c2-4936-90ef-1b4d3a18b670"
      },
      "outputs": [
        {
          "data": {
            "text/plain": [
              "np.float64(42.947630438162705)"
            ]
          },
          "execution_count": 20,
          "metadata": {},
          "output_type": "execute_result"
        }
      ],
      "source": [
        "average(direction_error) / np.pi * 180"
      ]
    },
    {
      "cell_type": "code",
      "execution_count": 21,
      "metadata": {
        "id": "tXrs4voMxYIp"
      },
      "outputs": [],
      "source": [
        "sample_cruising_speeds = np.arange(0, 3.1, 0.5)"
      ]
    },
    {
      "cell_type": "code",
      "execution_count": 22,
      "metadata": {
        "id": "GQQjFxtY-SnX"
      },
      "outputs": [
        {
          "name": "stderr",
          "output_type": "stream",
          "text": [
            "100%|██████████| 5000000/5000000 [00:12<00:00, 390563.91it/s]\n",
            "100%|██████████| 5000000/5000000 [00:12<00:00, 407391.08it/s]\n",
            "100%|██████████| 5000000/5000000 [00:12<00:00, 404033.84it/s]\n",
            "100%|██████████| 5000000/5000000 [00:12<00:00, 391737.20it/s]\n",
            "100%|██████████| 5000000/5000000 [00:12<00:00, 389749.68it/s]\n",
            "100%|██████████| 5000000/5000000 [00:12<00:00, 396243.11it/s]\n",
            "100%|██████████| 5000000/5000000 [00:12<00:00, 411720.35it/s]\n"
          ]
        }
      ],
      "source": [
        "speed_errors = np.zeros_like(sample_cruising_speeds)\n",
        "direction_errors = np.zeros_like(sample_cruising_speeds)\n",
        "for i, cruising_speed in enumerate(sample_cruising_speeds):\n",
        "  speed_error, direction_error = simulate_error(5000000, 5.82, cruising_speed / 3.6, return_average=True)\n",
        "  speed_errors[i] = speed_error\n",
        "  direction_errors[i] = direction_error / np.pi * 180"
      ]
    },
    {
      "cell_type": "code",
      "execution_count": null,
      "metadata": {},
      "outputs": [],
      "source": [
        "import matplotlib.pyplot as plt\n",
        "import japanize_matplotlib"
      ]
    },
    {
      "cell_type": "code",
      "execution_count": null,
      "metadata": {},
      "outputs": [],
      "source": [
        "plt.plot(sample_cruising_speeds, speed_errors)\n",
        "plt.xlabel(\"実走行速度 x(m/s)\")\n",
        "plt.ylabel(\"計算走行速度誤差 (m/s)\")\n",
        "plt.grid(visible=True)\n",
        "plt.show()"
      ]
    },
    {
      "cell_type": "code",
      "execution_count": null,
      "metadata": {},
      "outputs": [],
      "source": [
        "plt.plot(sample_cruising_speeds, direction_errors)\n",
        "plt.xlabel(\"実走行速度 x(m/s)\")\n",
        "plt.ylabel(\"計算進行方向誤差 (度)\")\n",
        "plt.grid(visible=True)\n",
        "plt.show()"
      ]
    },
    {
      "cell_type": "code",
      "execution_count": null,
      "metadata": {},
      "outputs": [],
      "source": [
        "plt.cla()"
      ]
    }
  ],
  "metadata": {
    "colab": {
      "provenance": []
    },
    "kernelspec": {
      "display_name": "3.12.10",
      "language": "python",
      "name": "python3"
    },
    "language_info": {
      "codemirror_mode": {
        "name": "ipython",
        "version": 3
      },
      "file_extension": ".py",
      "mimetype": "text/x-python",
      "name": "python",
      "nbconvert_exporter": "python",
      "pygments_lexer": "ipython3",
      "version": "3.12.10"
    }
  },
  "nbformat": 4,
  "nbformat_minor": 0
}
